{
 "metadata": {
  "name": "",
  "signature": "sha256:e02fef0c3c9d2e1652add2c451d8d49a85719f457b2e52d1211ee93af262580c"
 },
 "nbformat": 3,
 "nbformat_minor": 0,
 "worksheets": [
  {
   "cells": [
    {
     "cell_type": "code",
     "collapsed": false,
     "input": [
      "import os\n",
      "os.getpid()"
     ],
     "language": "python",
     "metadata": {},
     "outputs": [
      {
       "metadata": {},
       "output_type": "pyout",
       "prompt_number": 10,
       "text": [
        "8420"
       ]
      }
     ],
     "prompt_number": 10
    },
    {
     "cell_type": "code",
     "collapsed": false,
     "input": [
      ">>> import cv2\n",
      ">>> print cv2.__version__\n",
      "\n"
     ],
     "language": "python",
     "metadata": {},
     "outputs": [
      {
       "output_type": "stream",
       "stream": "stdout",
       "text": [
        "2.4.9\n"
       ]
      }
     ],
     "prompt_number": 11
    },
    {
     "cell_type": "code",
     "collapsed": false,
     "input": [
      "import numpy as np\n",
      "import cv2"
     ],
     "language": "python",
     "metadata": {},
     "outputs": [],
     "prompt_number": 12
    },
    {
     "cell_type": "code",
     "collapsed": false,
     "input": [
      "ORIGINAL_VIDEO = r\"D:\\my\\tamtam\\experiments\\videos\\samsung-s4-front.MOV\"\n",
      "RESULTS_DIR = r\"D:\\my\\tamtam\\experiments\\results\" + \"\\\\\""
     ],
     "language": "python",
     "metadata": {},
     "outputs": [],
     "prompt_number": 13
    },
    {
     "cell_type": "code",
     "collapsed": false,
     "input": [
      "## READ video example\n",
      "\n",
      "video = cv2.VideoCapture()\n",
      "video.open(ORIGINAL_VIDEO)\n",
      "assert video.isOpened(), \"failled to open video!\""
     ],
     "language": "python",
     "metadata": {},
     "outputs": [],
     "prompt_number": 14
    },
    {
     "cell_type": "code",
     "collapsed": false,
     "input": [
      "## WRITE video example video example\n",
      "\n",
      "RESULT_VIDEO = RESULTS_DIR + \"test.MOV\"\n",
      "print RESULT_VIDEO\n",
      "\n",
      "four_cc = cv2.cv.CV_FOURCC(*'XVID')\n",
      "fps = int(video.get(cv2.cv.CV_CAP_PROP_FPS))\n",
      "frame_size = int(video.get(cv2.cv.CV_CAP_PROP_FPS))\n",
      "frame_width = int(video.get(cv2.cv.CV_CAP_PROP_FRAME_WIDTH))\n",
      "frame_height = int(video.get(cv2.cv.CV_CAP_PROP_FRAME_HEIGHT))\n",
      "res_video = cv2.VideoWriter()\n",
      "print res_video.open(RESULT_VIDEO, four_cc, fps, (frame_width, frame_height), False)\n",
      "\n",
      "assert res_video.isOpened()\n"
     ],
     "language": "python",
     "metadata": {},
     "outputs": [
      {
       "output_type": "stream",
       "stream": "stdout",
       "text": [
        "D:\\my\\tamtam\\experiments\\results\\test.MOV\n",
        "True\n"
       ]
      }
     ],
     "prompt_number": 15
    },
    {
     "cell_type": "code",
     "collapsed": false,
     "input": [
      "RES_FILE =RESULTS_DIR + \"BackgroundSubtractorMOG.mov\"\n",
      "\n",
      "# open video\n",
      "\n",
      "video = cv2.VideoCapture()\n",
      "video.open(ORIGINAL_VIDEO)\n",
      "assert video.isOpened(), \"failled to open video!\"\n",
      "\n",
      "# open video writer\n",
      "\n",
      "four_cc = cv2.cv.CV_FOURCC(*'XVID')\n",
      "fps = int(video.get(cv2.cv.CV_CAP_PROP_FPS))\n",
      "frame_size = int(video.get(cv2.cv.CV_CAP_PROP_FPS))\n",
      "frame_width = int(video.get(cv2.cv.CV_CAP_PROP_FRAME_WIDTH))\n",
      "frame_height = int(video.get(cv2.cv.CV_CAP_PROP_FRAME_HEIGHT))\n",
      "res_video = cv2.VideoWriter()\n",
      "print res_video.open(RES_FILE, four_cc, fps, (frame_width, frame_height), False)\n",
      "\n",
      "assert res_video.isOpened()\n",
      "\n",
      "# make bacground video\n",
      "\n",
      "\n",
      "fgbg = cv2.BackgroundSubtractorMOG()\n",
      "i = 1\n",
      "\n",
      "while(1):\n",
      "    if i % 1000 == 0: print \"farme \", i\n",
      "    ret, frame = video.read()\n",
      "    if not ret:\n",
      "        print 'break !' , ret \n",
      "        break\n",
      "\n",
      "    fgmask = fgbg.apply(frame)\n",
      "    res_video.write(fgmask & fgmask)\n",
      "    if frame is None:\n",
      "        print 'break2 !' , frame\n",
      "        break\n",
      "\n",
      "    # cv2.imwrite(r\"d:\\my\\res\\fram_%d.jpg\" % i, fgmask)\n",
      "    i = i + 1\n",
      "\n",
      "video.release()\n",
      "res_video.release()\n"
     ],
     "language": "python",
     "metadata": {},
     "outputs": [
      {
       "output_type": "stream",
       "stream": "stdout",
       "text": [
        "True\n",
        "break !"
       ]
      },
      {
       "output_type": "stream",
       "stream": "stdout",
       "text": [
        " False\n"
       ]
      }
     ],
     "prompt_number": 16
    },
    {
     "cell_type": "code",
     "collapsed": false,
     "input": [
      "RES_FILE =RESULTS_DIR + \"BackgroundSubtractorMOG2.mov\"\n",
      "\n",
      "# open video\n",
      "\n",
      "video = cv2.VideoCapture()\n",
      "video.open(ORIGINAL_VIDEO)\n",
      "assert video.isOpened(), \"failled to open video!\"\n",
      "\n",
      "# open video writer\n",
      "\n",
      "four_cc = cv2.cv.CV_FOURCC(*'XVID')\n",
      "fps = int(video.get(cv2.cv.CV_CAP_PROP_FPS))\n",
      "frame_size = int(video.get(cv2.cv.CV_CAP_PROP_FPS))\n",
      "frame_width = int(video.get(cv2.cv.CV_CAP_PROP_FRAME_WIDTH))\n",
      "frame_height = int(video.get(cv2.cv.CV_CAP_PROP_FRAME_HEIGHT))\n",
      "res_video = cv2.VideoWriter()\n",
      "print res_video.open(RES_FILE, four_cc, fps, (frame_width, frame_height), False)\n",
      "\n",
      "assert res_video.isOpened()\n",
      "\n",
      "# make bacground video\n",
      "\n",
      "\n",
      "fgbg = cv2.BackgroundSubtractorMOG2()\n",
      "i = 1\n",
      "\n",
      "while(1):\n",
      "    if i % 1000 == 0: print \"farme \", i\n",
      "    ret, frame = video.read()\n",
      "    if not ret:\n",
      "        print 'break !' , ret \n",
      "        break\n",
      "\n",
      "    fgmask = fgbg.apply(frame)\n",
      "    res_video.write(fgmask & fgmask)\n",
      "    if frame is None:\n",
      "        print 'break2 !' , frame\n",
      "        break\n",
      "\n",
      "    # cv2.imwrite(r\"d:\\my\\res\\fram_%d.jpg\" % i, fgmask)\n",
      "    i = i + 1\n",
      "\n",
      "video.release()\n",
      "res_video.release()\n"
     ],
     "language": "python",
     "metadata": {},
     "outputs": [
      {
       "output_type": "stream",
       "stream": "stdout",
       "text": [
        "True\n",
        "break !"
       ]
      },
      {
       "output_type": "stream",
       "stream": "stdout",
       "text": [
        " False\n"
       ]
      }
     ],
     "prompt_number": 17
    },
    {
     "cell_type": "code",
     "collapsed": false,
     "input": [
      "RES_FILE =RESULTS_DIR + \"CopyOfVideo.mov\"\n",
      "\n",
      "# open video\n",
      "\n",
      "video = cv2.VideoCapture()\n",
      "video.open(ORIGINAL_VIDEO)\n",
      "assert video.isOpened(), \"failled to open video!\"\n",
      "\n",
      "# open video writer\n",
      "\n",
      "four_cc = cv2.cv.CV_FOURCC(*'XVID')\n",
      "fps = int(video.get(cv2.cv.CV_CAP_PROP_FPS))\n",
      "frame_size = int(video.get(cv2.cv.CV_CAP_PROP_FPS))\n",
      "frame_width = int(video.get(cv2.cv.CV_CAP_PROP_FRAME_WIDTH))\n",
      "frame_height = int(video.get(cv2.cv.CV_CAP_PROP_FRAME_HEIGHT))\n",
      "res_video = cv2.VideoWriter()\n",
      "print res_video.open(RES_FILE, four_cc, fps, (frame_width, frame_height))\n",
      "\n",
      "assert res_video.isOpened()\n",
      "\n",
      "# make bacground video\n",
      "\n",
      "\n",
      "i = 1\n",
      "\n",
      "while(1):\n",
      "    if i % 1000 == 0: print \"farme \", i\n",
      "    ret, frame = video.read()\n",
      "    if not ret:\n",
      "        print 'break !' , ret \n",
      "        break\n",
      "\n",
      "    res_video.write(frame)\n",
      "\n",
      "    # cv2.imwrite(r\"d:\\my\\res\\fram_%d.jpg\" % i, fgmask)\n",
      "    i = i + 1\n",
      "\n",
      "video.release()\n",
      "res_video.release()"
     ],
     "language": "python",
     "metadata": {},
     "outputs": [
      {
       "output_type": "stream",
       "stream": "stdout",
       "text": [
        "True\n",
        "break !"
       ]
      },
      {
       "output_type": "stream",
       "stream": "stdout",
       "text": [
        " False\n"
       ]
      }
     ],
     "prompt_number": 18
    },
    {
     "cell_type": "code",
     "collapsed": false,
     "input": [
      "RES_FILE =RESULTS_DIR + \"simple_background_subtraction.mov\"\n",
      "\n",
      "# open video\n",
      "\n",
      "video = cv2.VideoCapture()\n",
      "video.open(ORIGINAL_VIDEO)\n",
      "assert video.isOpened(), \"failled to open video!\"\n",
      "\n",
      "# open video writer\n",
      "\n",
      "four_cc = cv2.cv.CV_FOURCC(*'XVID')\n",
      "fps = int(video.get(cv2.cv.CV_CAP_PROP_FPS))\n",
      "frame_size = int(video.get(cv2.cv.CV_CAP_PROP_FPS))\n",
      "frame_width = int(video.get(cv2.cv.CV_CAP_PROP_FRAME_WIDTH))\n",
      "frame_height = int(video.get(cv2.cv.CV_CAP_PROP_FRAME_HEIGHT))\n",
      "res_video = cv2.VideoWriter()\n",
      "print res_video.open(RES_FILE, four_cc, fps, (frame_width, frame_height), True)\n",
      "\n",
      "assert res_video.isOpened()\n",
      "\n",
      "# make bacground video\n",
      "\n",
      "\n",
      "i = 1\n",
      "\n",
      "ret, frame0 = video.read()\n",
      "\n",
      "while(1):\n",
      "    if i % 1000 == 0: print \"farme \", i\n",
      "    ret, frame = video.read()\n",
      "    if not ret:\n",
      "        print 'break !' , ret \n",
      "        break\n",
      "\n",
      "    res_video.write(frame - frame0)\n",
      "\n",
      "    # cv2.imwrite(r\"d:\\my\\res\\fram_%d.jpg\" % i, fgmask)\n",
      "    i = i + 1\n",
      "\n",
      "video.release()\n",
      "res_video.release()"
     ],
     "language": "python",
     "metadata": {},
     "outputs": [
      {
       "output_type": "stream",
       "stream": "stdout",
       "text": [
        "True\n",
        "break !"
       ]
      },
      {
       "output_type": "stream",
       "stream": "stdout",
       "text": [
        " False\n"
       ]
      }
     ],
     "prompt_number": 19
    },
    {
     "cell_type": "code",
     "collapsed": false,
     "input": [
      "RES_FILE =RESULTS_DIR + \"background_subtraction_with_blur.mov\"\n",
      "\n",
      "\n",
      "# open video\n",
      "\n",
      "video = cv2.VideoCapture()\n",
      "video.open(ORIGINAL_VIDEO)\n",
      "assert video.isOpened(), \"failled to open video!\"\n",
      "\n",
      "# open video writer\n",
      "four_cc = cv2.cv.CV_FOURCC(*'XVID')\n",
      "fps = int(video.get(cv2.cv.CV_CAP_PROP_FPS))\n",
      "frame_size = int(video.get(cv2.cv.CV_CAP_PROP_FPS))\n",
      "frame_width = int(video.get(cv2.cv.CV_CAP_PROP_FRAME_WIDTH))\n",
      "frame_height = int(video.get(cv2.cv.CV_CAP_PROP_FRAME_HEIGHT))\n",
      "res_video = cv2.VideoWriter()\n",
      "print res_video.open(RES_FILE, four_cc, fps, (frame_width, frame_height), True)\n",
      "\n",
      "assert res_video.isOpened()\n",
      "\n",
      "# make bacground video\n",
      "\n",
      "\n",
      "i = 1\n",
      "\n",
      "ret, frame0 = video.read()\n",
      "ret, frame1 = video.read()\n",
      "\n",
      "while(1):\n",
      "    if i % 1000 == 0: print \"farme \", i\n",
      "    ret, frame = video.read()\n",
      "    if not ret:\n",
      "        print 'break !' , ret \n",
      "        break\n",
      "        \n",
      "    new  = frame - frame0\n",
      "    res_video.write(cv2.blur(new, (100, 100)))\n",
      "\n",
      "    # cv2.imwrite(r\"d:\\my\\res\\fram_%d.jpg\" % i, fgmask)\n",
      "    i = i + 1\n",
      "\n",
      "video.release()\n",
      "res_video.release()"
     ],
     "language": "python",
     "metadata": {},
     "outputs": [
      {
       "output_type": "stream",
       "stream": "stdout",
       "text": [
        "True\n",
        "break !"
       ]
      },
      {
       "output_type": "stream",
       "stream": "stdout",
       "text": [
        " False\n"
       ]
      }
     ],
     "prompt_number": 20
    },
    {
     "cell_type": "code",
     "collapsed": false,
     "input": [
      "# in range activation\n",
      "\n",
      "\n",
      "HAND_MIN = np.array([190, 190, 190],np.uint8)\n",
      "HAND_MAX = np.array([255, 255, 255],np.uint8)\n",
      "\n",
      "new  = cv2.inRange(xxx, HAND_MIN, HAND_MAX)\n",
      "cv2.imwrite(r\"d:\\my\\res\\test.jpg\", new)"
     ],
     "language": "python",
     "metadata": {},
     "outputs": [
      {
       "ename": "NameError",
       "evalue": "name 'xxx' is not defined",
       "output_type": "pyerr",
       "traceback": [
        "\u001b[1;31m---------------------------------------------------------------------------\u001b[0m\n\u001b[1;31mNameError\u001b[0m                                 Traceback (most recent call last)",
        "\u001b[1;32m<ipython-input-21-99ae2ed19ceb>\u001b[0m in \u001b[0;36m<module>\u001b[1;34m()\u001b[0m\n\u001b[0;32m      3\u001b[0m \u001b[0mHAND_MAX\u001b[0m \u001b[1;33m=\u001b[0m \u001b[0mnp\u001b[0m\u001b[1;33m.\u001b[0m\u001b[0marray\u001b[0m\u001b[1;33m(\u001b[0m\u001b[1;33m[\u001b[0m\u001b[1;36m255\u001b[0m\u001b[1;33m,\u001b[0m \u001b[1;36m255\u001b[0m\u001b[1;33m,\u001b[0m \u001b[1;36m255\u001b[0m\u001b[1;33m]\u001b[0m\u001b[1;33m,\u001b[0m\u001b[0mnp\u001b[0m\u001b[1;33m.\u001b[0m\u001b[0muint8\u001b[0m\u001b[1;33m)\u001b[0m\u001b[1;33m\u001b[0m\u001b[0m\n\u001b[0;32m      4\u001b[0m \u001b[1;33m\u001b[0m\u001b[0m\n\u001b[1;32m----> 5\u001b[1;33m \u001b[0mnew\u001b[0m  \u001b[1;33m=\u001b[0m \u001b[0mcv2\u001b[0m\u001b[1;33m.\u001b[0m\u001b[0minRange\u001b[0m\u001b[1;33m(\u001b[0m\u001b[0mxxx\u001b[0m\u001b[1;33m,\u001b[0m \u001b[0mHAND_MIN\u001b[0m\u001b[1;33m,\u001b[0m \u001b[0mHAND_MAX\u001b[0m\u001b[1;33m)\u001b[0m\u001b[1;33m\u001b[0m\u001b[0m\n\u001b[0m\u001b[0;32m      6\u001b[0m \u001b[0mcv2\u001b[0m\u001b[1;33m.\u001b[0m\u001b[0mimwrite\u001b[0m\u001b[1;33m(\u001b[0m\u001b[1;34mr\"d:\\my\\res\\test.jpg\"\u001b[0m\u001b[1;33m,\u001b[0m \u001b[0mnew\u001b[0m\u001b[1;33m)\u001b[0m\u001b[1;33m\u001b[0m\u001b[0m\n",
        "\u001b[1;31mNameError\u001b[0m: name 'xxx' is not defined"
       ]
      }
     ],
     "prompt_number": 21
    },
    {
     "cell_type": "code",
     "collapsed": false,
     "input": [
      "# blur activation \n",
      "\n",
      "new = cv2.blur(xxx, (100, 100))\n",
      "cv2.imwrite(r\"d:\\my\\res\\test.jpg\", new)"
     ],
     "language": "python",
     "metadata": {},
     "outputs": []
    }
   ],
   "metadata": {}
  }
 ]
}